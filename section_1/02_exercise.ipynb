{
  "nbformat": 4,
  "nbformat_minor": 0,
  "metadata": {
    "colab": {
      "name": "02_exercise.ipynb",
      "provenance": [],
      "collapsed_sections": [],
      "include_colab_link": true
    },
    "kernelspec": {
      "name": "python3",
      "display_name": "Python 3"
    },
    "language_info": {
      "name": "python"
    }
  },
  "cells": [
    {
      "cell_type": "markdown",
      "metadata": {
        "id": "view-in-github",
        "colab_type": "text"
      },
      "source": [
        "<a href=\"https://colab.research.google.com/github/alicelindel3/webapp/blob/main/section_1/02_exercise.ipynb\" target=\"_parent\"><img src=\"https://colab.research.google.com/assets/colab-badge.svg\" alt=\"Open In Colab\"/></a>"
      ]
    },
    {
      "cell_type": "markdown",
      "metadata": {
        "id": "8kW_qXJVTjic"
      },
      "source": [
        "# 演習\n",
        "Streamlitの「hello」コマンドを使い、サンプルアプリを動かしてみましょう。"
      ]
    },
    {
      "cell_type": "markdown",
      "source": [
        "## ●ライブラリのインストール"
      ],
      "metadata": {
        "id": "vRJCuxALcgkb"
      }
    },
    {
      "cell_type": "code",
      "execution_count": 1,
      "metadata": {
        "id": "Pbqipzj3nCy4",
        "outputId": "802943e9-2b2d-4a21-ba5e-3cac181e21cf",
        "colab": {
          "base_uri": "https://localhost:8080/"
        }
      },
      "outputs": [
        {
          "output_type": "stream",
          "name": "stdout",
          "text": [
            "\u001b[K     |████████████████████████████████| 9.9 MB 4.4 MB/s \n",
            "\u001b[K     |████████████████████████████████| 111 kB 56.8 MB/s \n",
            "\u001b[K     |████████████████████████████████| 164 kB 48.7 MB/s \n",
            "\u001b[K     |████████████████████████████████| 181 kB 52.3 MB/s \n",
            "\u001b[K     |████████████████████████████████| 76 kB 4.7 MB/s \n",
            "\u001b[K     |████████████████████████████████| 4.3 MB 56.0 MB/s \n",
            "\u001b[K     |████████████████████████████████| 63 kB 1.2 MB/s \n",
            "\u001b[K     |████████████████████████████████| 131 kB 49.9 MB/s \n",
            "\u001b[K     |████████████████████████████████| 130 kB 49.7 MB/s \n",
            "\u001b[K     |████████████████████████████████| 793 kB 33.5 MB/s \n",
            "\u001b[K     |████████████████████████████████| 428 kB 49.5 MB/s \n",
            "\u001b[K     |████████████████████████████████| 381 kB 58.0 MB/s \n",
            "\u001b[?25h  Building wheel for blinker (setup.py) ... \u001b[?25l\u001b[?25hdone\n",
            "\u001b[31mERROR: pip's dependency resolver does not currently take into account all the packages that are installed. This behaviour is the source of the following dependency conflicts.\n",
            "jupyter-console 5.2.0 requires prompt-toolkit<2.0.0,>=1.0.0, but you have prompt-toolkit 3.0.29 which is incompatible.\n",
            "google-colab 1.0.0 requires ipykernel~=4.10, but you have ipykernel 6.13.0 which is incompatible.\n",
            "google-colab 1.0.0 requires ipython~=5.5.0, but you have ipython 7.32.0 which is incompatible.\n",
            "google-colab 1.0.0 requires tornado~=5.1.0; python_version >= \"3.0\", but you have tornado 6.1 which is incompatible.\u001b[0m\n",
            "  Building wheel for pyngrok (setup.py) ... \u001b[?25l\u001b[?25hdone\n"
          ]
        }
      ],
      "source": [
        "!pip install streamlit==1.7.0 --quiet\n",
        "!pip install pyngrok==4.1.1 --quiet"
      ]
    },
    {
      "cell_type": "markdown",
      "source": [
        "Streamlit、およびngrokをインポートしておきます。  \n",
        "エラーが発生する場合は、「ランタイム」→「ランタイムを再起動」によりランタイムを再起動し、再びコードセルを上から順に実行しましょう。"
      ],
      "metadata": {
        "id": "yzi84ES5nII2"
      }
    },
    {
      "cell_type": "code",
      "source": [
        "import streamlit as st\n",
        "from pyngrok import ngrok"
      ],
      "metadata": {
        "id": "OsHcq-kaDwIi",
        "outputId": "04fe2f62-858e-4efb-e7da-7dd16d252edb",
        "colab": {
          "base_uri": "https://localhost:8080/"
        }
      },
      "execution_count": 1,
      "outputs": [
        {
          "output_type": "stream",
          "name": "stderr",
          "text": [
            "2022-04-23 18:18:39.307 INFO    numexpr.utils: NumExpr defaulting to 2 threads.\n"
          ]
        }
      ]
    },
    {
      "cell_type": "markdown",
      "source": [
        "## ●Authtokenの設定\n",
        "ngrokで接続するために必要な「Authtoken」を設定します。  \n",
        "以下のコードの、  \n",
        "`!ngrok authtoken YourAuthtoken`  \n",
        "における  \n",
        "`YourAuthtoken`の箇所を、自分のAuthtokenに置き換えます。  \n"
      ],
      "metadata": {
        "id": "j03EsJaHh4KK"
      }
    },
    {
      "cell_type": "code",
      "source": [
        "!ngrok authtoken 28CgtQ7o1Od22cwYJ4GRCQTe5JK_io5GiqTV5taqr6XFWrR9"
      ],
      "metadata": {
        "id": "mTfmORj2Dn7-",
        "outputId": "7656ce91-5e7c-4c64-cfa7-e65514d86a72",
        "colab": {
          "base_uri": "https://localhost:8080/"
        }
      },
      "execution_count": 2,
      "outputs": [
        {
          "output_type": "stream",
          "name": "stdout",
          "text": [
            "Authtoken saved to configuration file: /root/.ngrok2/ngrok.yml\n"
          ]
        }
      ]
    },
    {
      "cell_type": "markdown",
      "source": [
        "## ●アプリの起動と動作確認\n",
        "streamlitの`hello`コマンドを実行します。  \n"
      ],
      "metadata": {
        "id": "CnobL05MkjB1"
      }
    },
    {
      "cell_type": "code",
      "source": [
        "!streamlit hello &>/dev/null&"
      ],
      "metadata": {
        "id": "W0jXlMXWK0vi"
      },
      "execution_count": 3,
      "outputs": []
    },
    {
      "cell_type": "markdown",
      "source": [
        "ngrokのプロセスを修了した上で、新たにポートを指定して接続します。  \n",
        "接続の結果、urlを取得できます。  \n",
        "ngrokの無料プランでは同時に1つのプロセスしか動かせないので、エラーが発生した場合は「ランタイム」→「セッションの管理」で不要なGoogle Colabのセッションを修了しましょう。  "
      ],
      "metadata": {
        "id": "W5RLCJ7Sl2x_"
      }
    },
    {
      "cell_type": "code",
      "source": [
        "ngrok.kill()  # プロセスの修了\n",
        "url = ngrok.connect(port=\"8501\")  # 接続"
      ],
      "metadata": {
        "id": "v23ymsdLK3x7",
        "outputId": "bbf7642a-6098-4620-90a4-1310a51c903f",
        "colab": {
          "base_uri": "https://localhost:8080/"
        }
      },
      "execution_count": 6,
      "outputs": [
        {
          "output_type": "stream",
          "name": "stderr",
          "text": [
            "2022-04-23 18:19:22.588 INFO    pyngrok.process: ngrok process starting: 276\n",
            "2022-04-23 18:19:22.608 INFO    pyngrok.process: t=2022-04-23T18:19:22+0000 lvl=info msg=\"no configuration paths supplied\"\n",
            "\n",
            "2022-04-23 18:19:22.615 INFO    pyngrok.process: t=2022-04-23T18:19:22+0000 lvl=info msg=\"using configuration at default config path\" path=/root/.ngrok2/ngrok.yml\n",
            "\n",
            "2022-04-23 18:19:22.627 INFO    pyngrok.process: t=2022-04-23T18:19:22+0000 lvl=info msg=\"open config file\" path=/root/.ngrok2/ngrok.yml err=nil\n",
            "\n",
            "2022-04-23 18:19:22.633 INFO    pyngrok.process: t=2022-04-23T18:19:22+0000 lvl=info msg=\"starting web service\" obj=web addr=127.0.0.1:4040\n",
            "\n",
            "2022-04-23 18:19:22.764 INFO    pyngrok.process: t=2022-04-23T18:19:22+0000 lvl=info msg=\"tunnel session started\" obj=tunnels.session\n",
            "\n",
            "2022-04-23 18:19:22.766 INFO    pyngrok.process: t=2022-04-23T18:19:22+0000 lvl=info msg=\"client session established\" obj=csess id=46cef72669f3\n",
            "\n",
            "2022-04-23 18:19:22.771 INFO    pyngrok.process: ngrok process has started: http://127.0.0.1:4040\n",
            "2022-04-23 18:19:22.776 INFO    pyngrok.process: t=2022-04-23T18:19:22+0000 lvl=info msg=start pg=/api/tunnels id=ab72ad55a975419c\n",
            "\n",
            "2022-04-23 18:19:22.778 INFO    pyngrok.process: t=2022-04-23T18:19:22+0000 lvl=info msg=end pg=/api/tunnels id=ab72ad55a975419c status=200 dur=437.396µs\n",
            "\n",
            "2022-04-23 18:19:22.780 INFO    pyngrok.process: t=2022-04-23T18:19:22+0000 lvl=info msg=start pg=/api/tunnels id=a030ab99a80e54b0\n",
            "\n",
            "2022-04-23 18:19:22.781 INFO    pyngrok.process: t=2022-04-23T18:19:22+0000 lvl=info msg=end pg=/api/tunnels id=a030ab99a80e54b0 status=200 dur=248.684µs\n",
            "\n",
            "2022-04-23 18:19:22.782 INFO    pyngrok.process: t=2022-04-23T18:19:22+0000 lvl=info msg=start pg=/api/tunnels id=60f99c9f1c5fe7e9\n",
            "\n",
            "2022-04-23 18:19:22.865 INFO    pyngrok.process: t=2022-04-23T18:19:22+0000 lvl=info msg=\"started tunnel\" obj=tunnels name=\"http-8501-53013bbd-ee7b-40a9-bdc9-bc1e46b42fd5 (http)\" addr=http://localhost:8501 url=http://fccc-35-237-107-80.ngrok.io\n",
            "\n",
            "2022-04-23 18:19:22.872 INFO    pyngrok.process: t=2022-04-23T18:19:22+0000 lvl=info msg=\"started tunnel\" obj=tunnels name=http-8501-53013bbd-ee7b-40a9-bdc9-bc1e46b42fd5 addr=http://localhost:8501 url=https://fccc-35-237-107-80.ngrok.io\n",
            "\n",
            "2022-04-23 18:19:22.876 INFO    pyngrok.process: t=2022-04-23T18:19:22+0000 lvl=info msg=end pg=/api/tunnels id=60f99c9f1c5fe7e9 status=201 dur=100.82586ms\n",
            "\n"
          ]
        }
      ]
    },
    {
      "cell_type": "markdown",
      "source": [
        "urlを表示し、リンク先で様々なサンプルアプリが動作することを確認しましょう。"
      ],
      "metadata": {
        "id": "NZ0O_pNan57t"
      }
    },
    {
      "cell_type": "code",
      "source": [
        "print(url)"
      ],
      "metadata": {
        "id": "MIY7ositLAXC",
        "outputId": "c8faa98f-e311-4e99-d6db-23ec83b8e3b3",
        "colab": {
          "base_uri": "https://localhost:8080/"
        }
      },
      "execution_count": 7,
      "outputs": [
        {
          "output_type": "stream",
          "name": "stdout",
          "text": [
            "http://fccc-35-237-107-80.ngrok.io\n"
          ]
        }
      ]
    }
  ]
}